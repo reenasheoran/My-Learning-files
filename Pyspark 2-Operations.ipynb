{
 "cells": [
  {
   "cell_type": "markdown",
   "metadata": {},
   "source": [
    "#### Operations using Pyspark"
   ]
  },
  {
   "cell_type": "code",
   "execution_count": 2,
   "metadata": {},
   "outputs": [],
   "source": [
    "from pyspark.sql import SparkSession"
   ]
  },
  {
   "cell_type": "code",
   "execution_count": 5,
   "metadata": {},
   "outputs": [],
   "source": [
    "Spark=SparkSession.builder.appName('OPR').getOrCreate()"
   ]
  },
  {
   "cell_type": "markdown",
   "metadata": {},
   "source": [
    "#### Read the file"
   ]
  },
  {
   "cell_type": "code",
   "execution_count": 16,
   "metadata": {},
   "outputs": [
    {
     "name": "stdout",
     "output_type": "stream",
     "text": [
      "+---------+--------------+---------------+----------+---------+\n",
      "|      _c0|           _c1|            _c2|       _c3|      _c4|\n",
      "+---------+--------------+---------------+----------+---------+\n",
      "|R&D Spend|Administration|Marketing Spend|     State|   Profit|\n",
      "| 165349.2|      136897.8|       471784.1|  New York|192261.83|\n",
      "| 162597.7|     151377.59|      443898.53|California|191792.06|\n",
      "|153441.51|     101145.55|      407934.54|   Florida|191050.39|\n",
      "|144372.41|     118671.85|      383199.62|  New York|182901.99|\n",
      "|142107.34|      91391.77|      366168.42|   Florida|166187.94|\n",
      "| 131876.9|      99814.71|      362861.36|  New York|156991.12|\n",
      "|134615.46|     147198.87|      127716.82|California|156122.51|\n",
      "|130298.13|     145530.06|      323876.68|   Florida| 155752.6|\n",
      "|120542.52|     148718.95|      311613.29|  New York|152211.77|\n",
      "|123334.88|     108679.17|      304981.62|California|149759.96|\n",
      "|101913.08|     110594.11|      229160.95|   Florida|146121.95|\n",
      "|100671.96|      91790.61|      249744.55|California| 144259.4|\n",
      "| 93863.75|     127320.38|      249839.44|   Florida|141585.52|\n",
      "| 91992.39|     135495.07|      252664.93|California|134307.35|\n",
      "|119943.24|     156547.42|      256512.92|   Florida|132602.65|\n",
      "|114523.61|     122616.84|      261776.23|  New York|129917.04|\n",
      "| 78013.11|     121597.55|      264346.06|California|126992.93|\n",
      "| 94657.16|     145077.58|      282574.31|  New York|125370.37|\n",
      "| 91749.16|     114175.79|      294919.57|   Florida| 124266.9|\n",
      "+---------+--------------+---------------+----------+---------+\n",
      "only showing top 20 rows\n",
      "\n"
     ]
    }
   ],
   "source": [
    "# Method 1\n",
    "df_Spark=Spark.read.csv(\"C:/Users/reena/Desktop/python learning files/50_Startups.csv\")\n",
    "df_Spark.show()"
   ]
  },
  {
   "cell_type": "code",
   "execution_count": 17,
   "metadata": {},
   "outputs": [
    {
     "name": "stdout",
     "output_type": "stream",
     "text": [
      "+---------+--------------+---------------+----------+---------+\n",
      "|R&D Spend|Administration|Marketing Spend|     State|   Profit|\n",
      "+---------+--------------+---------------+----------+---------+\n",
      "| 165349.2|      136897.8|       471784.1|  New York|192261.83|\n",
      "| 162597.7|     151377.59|      443898.53|California|191792.06|\n",
      "|153441.51|     101145.55|      407934.54|   Florida|191050.39|\n",
      "|144372.41|     118671.85|      383199.62|  New York|182901.99|\n",
      "|142107.34|      91391.77|      366168.42|   Florida|166187.94|\n",
      "| 131876.9|      99814.71|      362861.36|  New York|156991.12|\n",
      "|134615.46|     147198.87|      127716.82|California|156122.51|\n",
      "|130298.13|     145530.06|      323876.68|   Florida| 155752.6|\n",
      "|120542.52|     148718.95|      311613.29|  New York|152211.77|\n",
      "|123334.88|     108679.17|      304981.62|California|149759.96|\n",
      "|101913.08|     110594.11|      229160.95|   Florida|146121.95|\n",
      "|100671.96|      91790.61|      249744.55|California| 144259.4|\n",
      "| 93863.75|     127320.38|      249839.44|   Florida|141585.52|\n",
      "| 91992.39|     135495.07|      252664.93|California|134307.35|\n",
      "|119943.24|     156547.42|      256512.92|   Florida|132602.65|\n",
      "|114523.61|     122616.84|      261776.23|  New York|129917.04|\n",
      "| 78013.11|     121597.55|      264346.06|California|126992.93|\n",
      "| 94657.16|     145077.58|      282574.31|  New York|125370.37|\n",
      "| 91749.16|     114175.79|      294919.57|   Florida| 124266.9|\n",
      "|  86419.7|     153514.11|              0|  New York|122776.86|\n",
      "+---------+--------------+---------------+----------+---------+\n",
      "only showing top 20 rows\n",
      "\n"
     ]
    }
   ],
   "source": [
    "# Method 2\n",
    "df_Spark=Spark.read.option('header','True').csv(\"C:/Users/reena/Desktop/python learning files/50_Startups.csv\")\n",
    "df_Spark.show()"
   ]
  },
  {
   "cell_type": "code",
   "execution_count": 19,
   "metadata": {},
   "outputs": [
    {
     "name": "stdout",
     "output_type": "stream",
     "text": [
      "root\n",
      " |-- R&D Spend: string (nullable = true)\n",
      " |-- Administration: string (nullable = true)\n",
      " |-- Marketing Spend: string (nullable = true)\n",
      " |-- State: string (nullable = true)\n",
      " |-- Profit: string (nullable = true)\n",
      "\n"
     ]
    }
   ],
   "source": [
    "# Check the schema\n",
    "df_Spark.printSchema()"
   ]
  },
  {
   "cell_type": "code",
   "execution_count": 21,
   "metadata": {},
   "outputs": [
    {
     "name": "stdout",
     "output_type": "stream",
     "text": [
      "root\n",
      " |-- R&D Spend: double (nullable = true)\n",
      " |-- Administration: double (nullable = true)\n",
      " |-- Marketing Spend: double (nullable = true)\n",
      " |-- State: string (nullable = true)\n",
      " |-- Profit: double (nullable = true)\n",
      "\n"
     ]
    }
   ],
   "source": [
    "# By default PySpark considers all variables as string, to change that use infer schema while reading the file\n",
    "df_Spark=Spark.read.option('header','True').csv(\"C:/Users/reena/Desktop/python learning files/50_Startups.csv\",inferSchema='True')\n",
    "df_Spark.printSchema()"
   ]
  },
  {
   "cell_type": "code",
   "execution_count": 25,
   "metadata": {},
   "outputs": [
    {
     "name": "stdout",
     "output_type": "stream",
     "text": [
      "+---------+--------------+---------------+----------+---------+\n",
      "|R&D Spend|Administration|Marketing Spend|     State|   Profit|\n",
      "+---------+--------------+---------------+----------+---------+\n",
      "| 165349.2|      136897.8|       471784.1|  New York|192261.83|\n",
      "| 162597.7|     151377.59|      443898.53|California|191792.06|\n",
      "|153441.51|     101145.55|      407934.54|   Florida|191050.39|\n",
      "|144372.41|     118671.85|      383199.62|  New York|182901.99|\n",
      "|142107.34|      91391.77|      366168.42|   Florida|166187.94|\n",
      "| 131876.9|      99814.71|      362861.36|  New York|156991.12|\n",
      "|134615.46|     147198.87|      127716.82|California|156122.51|\n",
      "|130298.13|     145530.06|      323876.68|   Florida| 155752.6|\n",
      "|120542.52|     148718.95|      311613.29|  New York|152211.77|\n",
      "|123334.88|     108679.17|      304981.62|California|149759.96|\n",
      "|101913.08|     110594.11|      229160.95|   Florida|146121.95|\n",
      "|100671.96|      91790.61|      249744.55|California| 144259.4|\n",
      "| 93863.75|     127320.38|      249839.44|   Florida|141585.52|\n",
      "| 91992.39|     135495.07|      252664.93|California|134307.35|\n",
      "|119943.24|     156547.42|      256512.92|   Florida|132602.65|\n",
      "|114523.61|     122616.84|      261776.23|  New York|129917.04|\n",
      "| 78013.11|     121597.55|      264346.06|California|126992.93|\n",
      "| 94657.16|     145077.58|      282574.31|  New York|125370.37|\n",
      "| 91749.16|     114175.79|      294919.57|   Florida| 124266.9|\n",
      "|  86419.7|     153514.11|            0.0|  New York|122776.86|\n",
      "+---------+--------------+---------------+----------+---------+\n",
      "only showing top 20 rows\n",
      "\n",
      "root\n",
      " |-- R&D Spend: double (nullable = true)\n",
      " |-- Administration: double (nullable = true)\n",
      " |-- Marketing Spend: double (nullable = true)\n",
      " |-- State: string (nullable = true)\n",
      " |-- Profit: double (nullable = true)\n",
      "\n"
     ]
    }
   ],
   "source": [
    "# Method 3\n",
    "df_Spark=Spark.read.csv(\"C:/Users/reena/Desktop/python learning files/50_Startups.csv\",header='True',inferSchema='True')\n",
    "df_Spark.show()\n",
    "df_Spark.printSchema()"
   ]
  },
  {
   "cell_type": "code",
   "execution_count": 26,
   "metadata": {},
   "outputs": [
    {
     "data": {
      "text/plain": [
       "['R&D Spend', 'Administration', 'Marketing Spend', 'State', 'Profit']"
      ]
     },
     "execution_count": 26,
     "metadata": {},
     "output_type": "execute_result"
    }
   ],
   "source": [
    "df_Spark.columns"
   ]
  },
  {
   "cell_type": "code",
   "execution_count": 28,
   "metadata": {},
   "outputs": [
    {
     "data": {
      "text/plain": [
       "[Row(R&D Spend=165349.2, Administration=136897.8, Marketing Spend=471784.1, State='New York', Profit=192261.83),\n",
       " Row(R&D Spend=162597.7, Administration=151377.59, Marketing Spend=443898.53, State='California', Profit=191792.06),\n",
       " Row(R&D Spend=153441.51, Administration=101145.55, Marketing Spend=407934.54, State='Florida', Profit=191050.39),\n",
       " Row(R&D Spend=144372.41, Administration=118671.85, Marketing Spend=383199.62, State='New York', Profit=182901.99),\n",
       " Row(R&D Spend=142107.34, Administration=91391.77, Marketing Spend=366168.42, State='Florida', Profit=166187.94)]"
      ]
     },
     "execution_count": 28,
     "metadata": {},
     "output_type": "execute_result"
    }
   ],
   "source": [
    "df_Spark.head(5)"
   ]
  },
  {
   "cell_type": "code",
   "execution_count": 29,
   "metadata": {},
   "outputs": [
    {
     "data": {
      "text/plain": [
       "DataFrame[Administration: double]"
      ]
     },
     "execution_count": 29,
     "metadata": {},
     "output_type": "execute_result"
    }
   ],
   "source": [
    "df_Spark.select('Administration')"
   ]
  },
  {
   "cell_type": "code",
   "execution_count": 30,
   "metadata": {},
   "outputs": [
    {
     "name": "stdout",
     "output_type": "stream",
     "text": [
      "+--------------+\n",
      "|Administration|\n",
      "+--------------+\n",
      "|      136897.8|\n",
      "|     151377.59|\n",
      "|     101145.55|\n",
      "|     118671.85|\n",
      "|      91391.77|\n",
      "|      99814.71|\n",
      "|     147198.87|\n",
      "|     145530.06|\n",
      "|     148718.95|\n",
      "|     108679.17|\n",
      "|     110594.11|\n",
      "|      91790.61|\n",
      "|     127320.38|\n",
      "|     135495.07|\n",
      "|     156547.42|\n",
      "|     122616.84|\n",
      "|     121597.55|\n",
      "|     145077.58|\n",
      "|     114175.79|\n",
      "|     153514.11|\n",
      "+--------------+\n",
      "only showing top 20 rows\n",
      "\n"
     ]
    }
   ],
   "source": [
    "df_Spark.select('Administration').show()"
   ]
  },
  {
   "cell_type": "code",
   "execution_count": 31,
   "metadata": {},
   "outputs": [
    {
     "name": "stdout",
     "output_type": "stream",
     "text": [
      "+--------------+----------+\n",
      "|Administration|     State|\n",
      "+--------------+----------+\n",
      "|      136897.8|  New York|\n",
      "|     151377.59|California|\n",
      "|     101145.55|   Florida|\n",
      "|     118671.85|  New York|\n",
      "|      91391.77|   Florida|\n",
      "|      99814.71|  New York|\n",
      "|     147198.87|California|\n",
      "|     145530.06|   Florida|\n",
      "|     148718.95|  New York|\n",
      "|     108679.17|California|\n",
      "|     110594.11|   Florida|\n",
      "|      91790.61|California|\n",
      "|     127320.38|   Florida|\n",
      "|     135495.07|California|\n",
      "|     156547.42|   Florida|\n",
      "|     122616.84|  New York|\n",
      "|     121597.55|California|\n",
      "|     145077.58|  New York|\n",
      "|     114175.79|   Florida|\n",
      "|     153514.11|  New York|\n",
      "+--------------+----------+\n",
      "only showing top 20 rows\n",
      "\n"
     ]
    }
   ],
   "source": [
    "df_Spark.select(['Administration','State']).show()"
   ]
  },
  {
   "cell_type": "code",
   "execution_count": 34,
   "metadata": {},
   "outputs": [
    {
     "data": {
      "text/plain": [
       "[('R&D Spend', 'double'),\n",
       " ('Administration', 'double'),\n",
       " ('Marketing Spend', 'double'),\n",
       " ('State', 'string'),\n",
       " ('Profit', 'double')]"
      ]
     },
     "execution_count": 34,
     "metadata": {},
     "output_type": "execute_result"
    }
   ],
   "source": [
    "df_Spark.dtypes"
   ]
  },
  {
   "cell_type": "code",
   "execution_count": 36,
   "metadata": {},
   "outputs": [
    {
     "name": "stdout",
     "output_type": "stream",
     "text": [
      "+-------+-----------------+------------------+------------------+----------+------------------+\n",
      "|summary|        R&D Spend|    Administration|   Marketing Spend|     State|            Profit|\n",
      "+-------+-----------------+------------------+------------------+----------+------------------+\n",
      "|  count|               50|                50|                50|        50|                50|\n",
      "|   mean|73721.61559999999|121344.63959999995|211025.09780000005|      null|112012.63920000002|\n",
      "| stddev|45902.25648230754|28017.802755488683|122290.31072584528|      null|40306.180337650534|\n",
      "|    min|              0.0|          51283.14|               0.0|California|           14681.4|\n",
      "|    max|         165349.2|         182645.56|          471784.1|  New York|         192261.83|\n",
      "+-------+-----------------+------------------+------------------+----------+------------------+\n",
      "\n"
     ]
    }
   ],
   "source": [
    "# In state column we have null in summary because of string datatype mean and stddev cannot be calculated \n",
    "df_Spark.describe().show()"
   ]
  },
  {
   "cell_type": "code",
   "execution_count": 37,
   "metadata": {},
   "outputs": [],
   "source": [
    "# Adding a column\n",
    "df_Spark=df_Spark.withColumn('Double_Profit',df_Spark['profit']*2)"
   ]
  },
  {
   "cell_type": "code",
   "execution_count": 38,
   "metadata": {},
   "outputs": [
    {
     "name": "stdout",
     "output_type": "stream",
     "text": [
      "+---------+--------------+---------------+----------+---------+-------------+\n",
      "|R&D Spend|Administration|Marketing Spend|     State|   Profit|Double_Profit|\n",
      "+---------+--------------+---------------+----------+---------+-------------+\n",
      "| 165349.2|      136897.8|       471784.1|  New York|192261.83|    384523.66|\n",
      "| 162597.7|     151377.59|      443898.53|California|191792.06|    383584.12|\n",
      "|153441.51|     101145.55|      407934.54|   Florida|191050.39|    382100.78|\n",
      "|144372.41|     118671.85|      383199.62|  New York|182901.99|    365803.98|\n",
      "|142107.34|      91391.77|      366168.42|   Florida|166187.94|    332375.88|\n",
      "| 131876.9|      99814.71|      362861.36|  New York|156991.12|    313982.24|\n",
      "|134615.46|     147198.87|      127716.82|California|156122.51|    312245.02|\n",
      "|130298.13|     145530.06|      323876.68|   Florida| 155752.6|     311505.2|\n",
      "|120542.52|     148718.95|      311613.29|  New York|152211.77|    304423.54|\n",
      "|123334.88|     108679.17|      304981.62|California|149759.96|    299519.92|\n",
      "|101913.08|     110594.11|      229160.95|   Florida|146121.95|     292243.9|\n",
      "|100671.96|      91790.61|      249744.55|California| 144259.4|     288518.8|\n",
      "| 93863.75|     127320.38|      249839.44|   Florida|141585.52|    283171.04|\n",
      "| 91992.39|     135495.07|      252664.93|California|134307.35|     268614.7|\n",
      "|119943.24|     156547.42|      256512.92|   Florida|132602.65|     265205.3|\n",
      "|114523.61|     122616.84|      261776.23|  New York|129917.04|    259834.08|\n",
      "| 78013.11|     121597.55|      264346.06|California|126992.93|    253985.86|\n",
      "| 94657.16|     145077.58|      282574.31|  New York|125370.37|    250740.74|\n",
      "| 91749.16|     114175.79|      294919.57|   Florida| 124266.9|     248533.8|\n",
      "|  86419.7|     153514.11|            0.0|  New York|122776.86|    245553.72|\n",
      "+---------+--------------+---------------+----------+---------+-------------+\n",
      "only showing top 20 rows\n",
      "\n"
     ]
    }
   ],
   "source": [
    "df_Spark.show()"
   ]
  },
  {
   "cell_type": "code",
   "execution_count": 39,
   "metadata": {},
   "outputs": [],
   "source": [
    "# Drop the column\n",
    "df_Spark=df_Spark.drop('Double_profit')"
   ]
  },
  {
   "cell_type": "code",
   "execution_count": 40,
   "metadata": {},
   "outputs": [
    {
     "name": "stdout",
     "output_type": "stream",
     "text": [
      "+---------+--------------+---------------+----------+---------+\n",
      "|R&D Spend|Administration|Marketing Spend|     State|   Profit|\n",
      "+---------+--------------+---------------+----------+---------+\n",
      "| 165349.2|      136897.8|       471784.1|  New York|192261.83|\n",
      "| 162597.7|     151377.59|      443898.53|California|191792.06|\n",
      "|153441.51|     101145.55|      407934.54|   Florida|191050.39|\n",
      "|144372.41|     118671.85|      383199.62|  New York|182901.99|\n",
      "|142107.34|      91391.77|      366168.42|   Florida|166187.94|\n",
      "| 131876.9|      99814.71|      362861.36|  New York|156991.12|\n",
      "|134615.46|     147198.87|      127716.82|California|156122.51|\n",
      "|130298.13|     145530.06|      323876.68|   Florida| 155752.6|\n",
      "|120542.52|     148718.95|      311613.29|  New York|152211.77|\n",
      "|123334.88|     108679.17|      304981.62|California|149759.96|\n",
      "|101913.08|     110594.11|      229160.95|   Florida|146121.95|\n",
      "|100671.96|      91790.61|      249744.55|California| 144259.4|\n",
      "| 93863.75|     127320.38|      249839.44|   Florida|141585.52|\n",
      "| 91992.39|     135495.07|      252664.93|California|134307.35|\n",
      "|119943.24|     156547.42|      256512.92|   Florida|132602.65|\n",
      "|114523.61|     122616.84|      261776.23|  New York|129917.04|\n",
      "| 78013.11|     121597.55|      264346.06|California|126992.93|\n",
      "| 94657.16|     145077.58|      282574.31|  New York|125370.37|\n",
      "| 91749.16|     114175.79|      294919.57|   Florida| 124266.9|\n",
      "|  86419.7|     153514.11|            0.0|  New York|122776.86|\n",
      "+---------+--------------+---------------+----------+---------+\n",
      "only showing top 20 rows\n",
      "\n"
     ]
    }
   ],
   "source": [
    "df_Spark.show()"
   ]
  },
  {
   "cell_type": "code",
   "execution_count": 41,
   "metadata": {},
   "outputs": [],
   "source": [
    "# Renaming the column\n",
    "df_Spark=df_Spark.withColumnRenamed('R&D Spend','R&D Expenditure')"
   ]
  },
  {
   "cell_type": "code",
   "execution_count": 42,
   "metadata": {},
   "outputs": [
    {
     "name": "stdout",
     "output_type": "stream",
     "text": [
      "+---------------+--------------+---------------+----------+---------+\n",
      "|R&D Expenditure|Administration|Marketing Spend|     State|   Profit|\n",
      "+---------------+--------------+---------------+----------+---------+\n",
      "|       165349.2|      136897.8|       471784.1|  New York|192261.83|\n",
      "|       162597.7|     151377.59|      443898.53|California|191792.06|\n",
      "|      153441.51|     101145.55|      407934.54|   Florida|191050.39|\n",
      "|      144372.41|     118671.85|      383199.62|  New York|182901.99|\n",
      "|      142107.34|      91391.77|      366168.42|   Florida|166187.94|\n",
      "|       131876.9|      99814.71|      362861.36|  New York|156991.12|\n",
      "|      134615.46|     147198.87|      127716.82|California|156122.51|\n",
      "|      130298.13|     145530.06|      323876.68|   Florida| 155752.6|\n",
      "|      120542.52|     148718.95|      311613.29|  New York|152211.77|\n",
      "|      123334.88|     108679.17|      304981.62|California|149759.96|\n",
      "|      101913.08|     110594.11|      229160.95|   Florida|146121.95|\n",
      "|      100671.96|      91790.61|      249744.55|California| 144259.4|\n",
      "|       93863.75|     127320.38|      249839.44|   Florida|141585.52|\n",
      "|       91992.39|     135495.07|      252664.93|California|134307.35|\n",
      "|      119943.24|     156547.42|      256512.92|   Florida|132602.65|\n",
      "|      114523.61|     122616.84|      261776.23|  New York|129917.04|\n",
      "|       78013.11|     121597.55|      264346.06|California|126992.93|\n",
      "|       94657.16|     145077.58|      282574.31|  New York|125370.37|\n",
      "|       91749.16|     114175.79|      294919.57|   Florida| 124266.9|\n",
      "|        86419.7|     153514.11|            0.0|  New York|122776.86|\n",
      "+---------------+--------------+---------------+----------+---------+\n",
      "only showing top 20 rows\n",
      "\n"
     ]
    }
   ],
   "source": [
    "df_Spark.show()"
   ]
  },
  {
   "cell_type": "code",
   "execution_count": null,
   "metadata": {},
   "outputs": [],
   "source": []
  }
 ],
 "metadata": {
  "kernelspec": {
   "display_name": "Python 3",
   "language": "python",
   "name": "python3"
  },
  "language_info": {
   "codemirror_mode": {
    "name": "ipython",
    "version": 3
   },
   "file_extension": ".py",
   "mimetype": "text/x-python",
   "name": "python",
   "nbconvert_exporter": "python",
   "pygments_lexer": "ipython3",
   "version": "3.8.5"
  }
 },
 "nbformat": 4,
 "nbformat_minor": 4
}
